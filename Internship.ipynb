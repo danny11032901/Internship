{
 "cells": [
  {
   "cell_type": "code",
   "execution_count": 1,
   "id": "7a733ca9-d0d6-4be2-9d6a-b497c259e4bb",
   "metadata": {},
   "outputs": [
    {
     "name": "stdout",
     "output_type": "stream",
     "text": [
      "Requirement already satisfied: xgboost in c:\\users\\sipl\\anaconda3\\lib\\site-packages (3.0.2)\n",
      "Requirement already satisfied: numpy in c:\\users\\sipl\\anaconda3\\lib\\site-packages (from xgboost) (1.26.4)\n",
      "Requirement already satisfied: scipy in c:\\users\\sipl\\anaconda3\\lib\\site-packages (from xgboost) (1.13.1)\n",
      "Requirement already satisfied: shap in c:\\users\\sipl\\anaconda3\\lib\\site-packages (0.48.0)\n",
      "Requirement already satisfied: numpy in c:\\users\\sipl\\anaconda3\\lib\\site-packages (from shap) (1.26.4)\n",
      "Requirement already satisfied: scipy in c:\\users\\sipl\\anaconda3\\lib\\site-packages (from shap) (1.13.1)\n",
      "Requirement already satisfied: scikit-learn in c:\\users\\sipl\\anaconda3\\lib\\site-packages (from shap) (1.5.1)\n",
      "Requirement already satisfied: pandas in c:\\users\\sipl\\anaconda3\\lib\\site-packages (from shap) (2.2.2)\n",
      "Requirement already satisfied: tqdm>=4.27.0 in c:\\users\\sipl\\anaconda3\\lib\\site-packages (from shap) (4.66.5)\n",
      "Requirement already satisfied: packaging>20.9 in c:\\users\\sipl\\anaconda3\\lib\\site-packages (from shap) (24.1)\n",
      "Requirement already satisfied: slicer==0.0.8 in c:\\users\\sipl\\anaconda3\\lib\\site-packages (from shap) (0.0.8)\n",
      "Requirement already satisfied: numba>=0.54 in c:\\users\\sipl\\anaconda3\\lib\\site-packages (from shap) (0.60.0)\n",
      "Requirement already satisfied: cloudpickle in c:\\users\\sipl\\anaconda3\\lib\\site-packages (from shap) (3.0.0)\n",
      "Requirement already satisfied: typing-extensions in c:\\users\\sipl\\anaconda3\\lib\\site-packages (from shap) (4.11.0)\n",
      "Requirement already satisfied: llvmlite<0.44,>=0.43.0dev0 in c:\\users\\sipl\\anaconda3\\lib\\site-packages (from numba>=0.54->shap) (0.43.0)\n",
      "Requirement already satisfied: colorama in c:\\users\\sipl\\anaconda3\\lib\\site-packages (from tqdm>=4.27.0->shap) (0.4.6)\n",
      "Requirement already satisfied: python-dateutil>=2.8.2 in c:\\users\\sipl\\anaconda3\\lib\\site-packages (from pandas->shap) (2.9.0.post0)\n",
      "Requirement already satisfied: pytz>=2020.1 in c:\\users\\sipl\\anaconda3\\lib\\site-packages (from pandas->shap) (2024.1)\n",
      "Requirement already satisfied: tzdata>=2022.7 in c:\\users\\sipl\\anaconda3\\lib\\site-packages (from pandas->shap) (2023.3)\n",
      "Requirement already satisfied: joblib>=1.2.0 in c:\\users\\sipl\\anaconda3\\lib\\site-packages (from scikit-learn->shap) (1.4.2)\n",
      "Requirement already satisfied: threadpoolctl>=3.1.0 in c:\\users\\sipl\\anaconda3\\lib\\site-packages (from scikit-learn->shap) (3.5.0)\n",
      "Requirement already satisfied: six>=1.5 in c:\\users\\sipl\\anaconda3\\lib\\site-packages (from python-dateutil>=2.8.2->pandas->shap) (1.16.0)\n"
     ]
    }
   ],
   "source": [
    "!pip install xgboost\n",
    "!pip install shap"
   ]
  },
  {
   "cell_type": "code",
   "execution_count": 2,
   "id": "c47d81f0-8f16-4b68-930f-383ad9ef4428",
   "metadata": {},
   "outputs": [],
   "source": [
    "import pandas as pd\n",
    "import numpy as np\n",
    "from sklearn.model_selection import train_test_split, RandomizedSearchCV\n",
    "from sklearn.preprocessing import LabelEncoder, StandardScaler\n",
    "from xgboost import XGBClassifier\n",
    "from sklearn.metrics import classification_report, confusion_matrix, roc_auc_score, RocCurveDisplay\n",
    "from imblearn.over_sampling import SMOTE\n",
    "import seaborn as sns\n",
    "import matplotlib.pyplot as plt\n",
    "import warnings\n",
    "warnings.filterwarnings('ignore')"
   ]
  },
  {
   "cell_type": "code",
   "execution_count": 3,
   "id": "43f5d193-43ee-47c0-a24e-80f4370961e6",
   "metadata": {},
   "outputs": [],
   "source": [
    "df =pd.read_csv(\"Fraud.csv\")"
   ]
  },
  {
   "cell_type": "code",
   "execution_count": 4,
   "id": "53407a0f-f258-41e2-9d7a-14139132e6e9",
   "metadata": {},
   "outputs": [],
   "source": [
    "df.drop(['nameOrig','nameDest'],axis=1,inplace=True)\n"
   ]
  },
  {
   "cell_type": "code",
   "execution_count": 5,
   "id": "dbad7fd8-651c-4241-a6c9-3233dbb0e21d",
   "metadata": {},
   "outputs": [],
   "source": [
    "df['type']=LabelEncoder().fit_transform(df['type'])"
   ]
  },
  {
   "cell_type": "code",
   "execution_count": 6,
   "id": "434970c1-3a32-4888-8394-39d642c11025",
   "metadata": {},
   "outputs": [],
   "source": [
    "df=df[~((df['oldbalanceOrg']==0) & (df['newbalanceOrig']==0) & (df['oldbalanceDest']==0) & (df['newbalanceDest']==0))]"
   ]
  },
  {
   "cell_type": "code",
   "execution_count": 7,
   "id": "c10cfc9b-d40e-43b9-bf56-2ea31a3a68b0",
   "metadata": {},
   "outputs": [],
   "source": [
    "x=df.drop([\"isFraud\",\"isFlaggedFraud\"],axis=1)\n",
    "y=df[\"isFraud\"]"
   ]
  },
  {
   "cell_type": "code",
   "execution_count": 8,
   "id": "432a5772-9d6d-4dec-a143-eddc7140e06d",
   "metadata": {},
   "outputs": [],
   "source": [
    "X_scaled=pd.DataFrame(StandardScaler().fit_transform(x),columns=x.columns)"
   ]
  },
  {
   "cell_type": "code",
   "execution_count": 9,
   "id": "dbc25888-3022-473d-b534-73549e56f2b6",
   "metadata": {},
   "outputs": [],
   "source": [
    "smote=SMOTE(random_state=42)\n",
    "X_res,Y_res=smote.fit_resample(X_scaled,y)\n"
   ]
  },
  {
   "cell_type": "code",
   "execution_count": 10,
   "id": "39a62ae5-4fa9-484d-8d63-807a1ed97959",
   "metadata": {},
   "outputs": [],
   "source": [
    "X_train,X_test,Y_train,Y_test=train_test_split(X_res,Y_res,test_size=0.2,stratify=Y_res,random_state=42)"
   ]
  },
  {
   "cell_type": "code",
   "execution_count": null,
   "id": "0c375f78-c0a0-4357-932f-326ad4c6b243",
   "metadata": {},
   "outputs": [
    {
     "name": "stdout",
     "output_type": "stream",
     "text": [
      "Fitting 3 folds for each of 10 candidates, totalling 30 fits\n"
     ]
    }
   ],
   "source": [
    "xgb=XGBClassifier(random_state=42,eval_metric='auc',use_label_encoder=False)\n",
    "param_grid={'n_estimators':[100,200,300],\n",
    "            'learning_rate':[0.01,0.05,0.1],\n",
    "            'max_depth':[4,5,6,7],\n",
    "            'subsample':[0.6,0.8,1],\n",
    "            'colsample_bytree':[0.6,0.8,1]}\n",
    "search=RandomizedSearchCV(estimator=xgb,param_distributions=param_grid,n_iter=10,scoring='roc_auc',cv=3,verbose=1,random_state=42,n_jobs=-1)\n",
    "search.fit(X_train,Y_train)"
   ]
  },
  {
   "cell_type": "code",
   "execution_count": null,
   "id": "45e74eed-35d4-4151-b2bd-21db40d0680d",
   "metadata": {},
   "outputs": [],
   "source": [
    "best_xgb=search.best_estimator_\n",
    "y_pred=best_xgb.predict(X_test)"
   ]
  },
  {
   "cell_type": "code",
   "execution_count": null,
   "id": "c7b15d14-355c-41a2-bed2-29a7b0517798",
   "metadata": {},
   "outputs": [],
   "source": [
    "y_prob=best_xgb.predict_proba(X_test)[:,1]"
   ]
  },
  {
   "cell_type": "code",
   "execution_count": null,
   "id": "32014a54-e316-4800-b010-628150ab6cf6",
   "metadata": {},
   "outputs": [],
   "source": [
    "print(\"Confusion Matrix:\\n\",confusion_matrix(Y_test,y_pred))\n",
    "print(\"\\n classification Report:\\n\",classification_report(Y_test,y_pred))\n",
    "print(\"\\nRocAUC Score:\",roc_auc_score(Y_test,y_prob))\n",
    "      "
   ]
  },
  {
   "cell_type": "code",
   "execution_count": null,
   "id": "d46c3103-b024-459a-9016-72f77dc1154b",
   "metadata": {},
   "outputs": [],
   "source": [
    "RocCurveDisplay.from_estimator(best_xgb,X_test,Y_test)\n",
    "plt.show()"
   ]
  },
  {
   "cell_type": "code",
   "execution_count": null,
   "id": "6b822440-2a7e-4c1f-be06-894899a3a436",
   "metadata": {},
   "outputs": [],
   "source": [
    "plt.figure(figsize=(10,5))\n",
    "sns.barplot(x=best_xgb.feature_importances_,y=x.columns)\n",
    "plt.title(\"feature Importances from Xgboost\")\n",
    "plt.show()"
   ]
  },
  {
   "cell_type": "code",
   "execution_count": null,
   "id": "2f30039a-9aa5-4330-9036-56583d032fae",
   "metadata": {},
   "outputs": [],
   "source": []
  }
 ],
 "metadata": {
  "kernelspec": {
   "display_name": "Python 3 (ipykernel)",
   "language": "python",
   "name": "python3"
  },
  "language_info": {
   "codemirror_mode": {
    "name": "ipython",
    "version": 3
   },
   "file_extension": ".py",
   "mimetype": "text/x-python",
   "name": "python",
   "nbconvert_exporter": "python",
   "pygments_lexer": "ipython3",
   "version": "3.12.7"
  }
 },
 "nbformat": 4,
 "nbformat_minor": 5
}
